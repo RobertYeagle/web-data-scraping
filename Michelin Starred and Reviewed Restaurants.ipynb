{
 "cells": [
  {
   "cell_type": "markdown",
   "metadata": {},
   "source": [
    "## Get Michelin Starred & Reviewed Restaurants in the US\n",
    "\n",
    "- This is a script I wrote because I love food and was looking for a well reviewed, inexpensive restaurant near me.\n",
    "    - What it does is gets all Michelin starred & reviewed restaurants in the US, cleans the data, and then does some quick analysis.\n",
    "- Get data from the website\n",
    "- Analyze it \n",
    "- Export it to both CSV and google Sheet\n",
    "    - Final export here: https://docs.google.com/spreadsheets/d/1Qx8dHKbngqP4AsUvD8vRRv8usaNIn9je5f4AlGnRX3I/edit?usp=sharing\n",
    "\n",
    "### Some Interesting Findings...\n",
    "- It looks like Scandonavian restaurants and Steakhouses tend to be the most expensive\n",
    "- Indonesian, Polish, Sengelese all look to be the lease expensive\n",
    "- Greenwich & West Village is the neighborhood in NYC with the most Michelin starred / reviewed restaurants\n",
    "- For the bay area the best restaurants look to be in Napa, which is funny because it is not in SF... but yes the food is good.\n",
    "    - The first SF neighborhood is the Mission. So that makes sense, it only has the 5 best burritos in the world."
   ]
  },
  {
   "cell_type": "code",
   "execution_count": 14,
   "metadata": {},
   "outputs": [
    {
     "name": "stdout",
     "output_type": "stream",
     "text": [
      "<Response [200]>\n",
      "complete\n"
     ]
    }
   ],
   "source": [
    "from bs4 import BeautifulSoup \n",
    "from urllib.request import urlopen as uReq \n",
    "import pandas as pd\n",
    "import requests\n",
    "from df2gspread import df2gspread as d2g\n",
    "from time import time\n",
    "import seaborn as sns\n",
    "import matplotlib.pyplot as plt\n",
    "import warnings\n",
    "%matplotlib inline\n",
    "warnings.filterwarnings(\"ignore\")\n",
    "\n",
    "# action needed, this defines the places that are gettinga hot 100 boost\n",
    "t = time()\n",
    "\n",
    "page = requests.get(\"https://guide.michelin.com/us/san-francisco/restaurants\")\n",
    "print(page)\n",
    "\n",
    "soup = BeautifulSoup(page.content, 'html.parser')\n",
    "\n",
    "soup.prettify()\n",
    "print('complete')"
   ]
  },
  {
   "cell_type": "code",
   "execution_count": null,
   "metadata": {},
   "outputs": [],
   "source": []
  },
  {
   "cell_type": "code",
   "execution_count": 15,
   "metadata": {},
   "outputs": [
    {
     "name": "stdout",
     "output_type": "stream",
     "text": [
      "Step complete\n"
     ]
    }
   ],
   "source": [
    "# Deeper dive into the elements of the page\n",
    "[type(item) for item in list(soup.children)]\n",
    "names_descs = [sd.get_text() for sd in soup.find_all('div', class_='resto-inner-title')]\n",
    "details_descs = [sd.get_text() for sd in soup.find_all('div', class_='resto-inner-category')]\n",
    "\n",
    "df = pd.DataFrame({\n",
    "        \"name\": names_descs, \n",
    "        \"details\": details_descs\n",
    "    })\n",
    "\n",
    "print('Step complete')"
   ]
  },
  {
   "cell_type": "code",
   "execution_count": null,
   "metadata": {},
   "outputs": [],
   "source": []
  },
  {
   "cell_type": "markdown",
   "metadata": {},
   "source": [
    "## Scrape The Web\n",
    "- Loop through different markets where they review restaurants"
   ]
  },
  {
   "cell_type": "code",
   "execution_count": 16,
   "metadata": {},
   "outputs": [
    {
     "name": "stdout",
     "output_type": "stream",
     "text": [
      "(274, 3)\n"
     ]
    },
    {
     "data": {
      "text/html": [
       "<div>\n",
       "<style scoped>\n",
       "    .dataframe tbody tr th:only-of-type {\n",
       "        vertical-align: middle;\n",
       "    }\n",
       "\n",
       "    .dataframe tbody tr th {\n",
       "        vertical-align: top;\n",
       "    }\n",
       "\n",
       "    .dataframe thead th {\n",
       "        text-align: right;\n",
       "    }\n",
       "</style>\n",
       "<table border=\"1\" class=\"dataframe\">\n",
       "  <thead>\n",
       "    <tr style=\"text-align: right;\">\n",
       "      <th></th>\n",
       "      <th>name</th>\n",
       "      <th>details</th>\n",
       "      <th>market</th>\n",
       "    </tr>\n",
       "  </thead>\n",
       "  <tbody>\n",
       "    <tr>\n",
       "      <th>0</th>\n",
       "      <td>'āina</td>\n",
       "      <td>Hawaiian, Mission, From $25.00</td>\n",
       "      <td>San Francisco</td>\n",
       "    </tr>\n",
       "    <tr>\n",
       "      <th>1</th>\n",
       "      <td>1601 Bar &amp; Kitchen</td>\n",
       "      <td>Sri Lankan, SoMa, From $25.00</td>\n",
       "      <td>San Francisco</td>\n",
       "    </tr>\n",
       "    <tr>\n",
       "      <th>2</th>\n",
       "      <td>1760</td>\n",
       "      <td>Contemporary, Nob Hill, From $50.00</td>\n",
       "      <td>San Francisco</td>\n",
       "    </tr>\n",
       "    <tr>\n",
       "      <th>3</th>\n",
       "      <td>A Mano</td>\n",
       "      <td>Italian, Civic Center, From $25.00</td>\n",
       "      <td>San Francisco</td>\n",
       "    </tr>\n",
       "    <tr>\n",
       "      <th>4</th>\n",
       "      <td>A16</td>\n",
       "      <td>Italian, Marina, From $25.00</td>\n",
       "      <td>San Francisco</td>\n",
       "    </tr>\n",
       "  </tbody>\n",
       "</table>\n",
       "</div>"
      ],
      "text/plain": [
       "                 name                              details         market\n",
       "0               'āina       Hawaiian, Mission, From $25.00  San Francisco\n",
       "1  1601 Bar & Kitchen        Sri Lankan, SoMa, From $25.00  San Francisco\n",
       "2                1760  Contemporary, Nob Hill, From $50.00  San Francisco\n",
       "3              A Mano   Italian, Civic Center, From $25.00  San Francisco\n",
       "4                 A16         Italian, Marina, From $25.00  San Francisco"
      ]
     },
     "execution_count": 16,
     "metadata": {},
     "output_type": "execute_result"
    }
   ],
   "source": [
    "\n",
    "# Get all the places for San Francisco\n",
    "blank_df = pd.DataFrame()\n",
    "\n",
    "page_list = [\"https://guide.michelin.com/us/san-francisco/restaurants/\"\n",
    ",\"https://guide.michelin.com/us/san-francisco/restaurants/page/2?max=30&sort=relevance&order=desc\"\n",
    ",\"https://guide.michelin.com/us/san-francisco/restaurants/page/3?max=30&sort=relevance&order=desc\"\n",
    ",\"https://guide.michelin.com/us/san-francisco/restaurants/page/4?max=30&sort=relevance&order=desc\"\n",
    ",\"https://guide.michelin.com/us/san-francisco/restaurants/page/5?max=30&sort=relevance&order=desc\"\n",
    ",\"https://guide.michelin.com/us/san-francisco/restaurants/page/6?max=30&sort=relevance&order=desc\"\n",
    ",\"https://guide.michelin.com/us/san-francisco/restaurants/page/7?max=30&sort=relevance&order=desc\"\n",
    ",\"https://guide.michelin.com/us/san-francisco/restaurants/page/8?max=30&sort=relevance&order=desc\"\n",
    ",\"https://guide.michelin.com/us/san-francisco/restaurants/page/9?max=30&sort=relevance&order=desc\"\n",
    ",\"https://guide.michelin.com/us/san-francisco/restaurants/page/10?max=30&sort=relevance&order=desc\"]\n",
    "\n",
    "for p in page_list:\n",
    "    page = requests.get(p)\n",
    "    soup = BeautifulSoup(page.content, 'html.parser')\n",
    "    names_descs = [sd.get_text() for sd in soup.find_all('div', class_='resto-inner-title')]\n",
    "    details_descs = [sd.get_text() for sd in soup.find_all('div', class_='resto-inner-category')]\n",
    "    df = pd.DataFrame({\n",
    "            \"name\": names_descs, \n",
    "            \"details\": details_descs, \n",
    "        })\n",
    "    df['name'] = df.name.str.strip()\n",
    "    df['name'] = df.name.str.replace('\\n', '')\n",
    "    df['name'] = df.name.str.replace('=', '')\n",
    "    df['name'] = df.name.str.replace('‹', '')\n",
    "    df['name'] = df.name.str.replace('=', '')\n",
    "    df['name'] = df.name.str.replace('   m', '')\n",
    "    df['name'] = df.name.str.replace('   n', '')\n",
    "    df['name'] = df.name.str.replace('   o', '')\n",
    "    df['name'] = df.name.str.strip()\n",
    "    df['details'] = df.details.str.strip()\n",
    "    df['details'] = df.details.str.replace('\\n', '')\n",
    "    df['details'] = df.details.str.replace('=', '')\n",
    "    df['details'] = df.details.str.replace('‹', '')\n",
    "    df['details'] = df.details.str.replace('·', '')\n",
    "    df['details'] = df.details.str.replace('                                                                                                                                                                 ', ', ')\n",
    "    df['details'] = df.details.str.strip()\n",
    "    blank_df = blank_df.append(df)\n",
    "\n",
    "    \n",
    "    \n",
    "blank_df['market'] = \"San Francisco\"\n",
    "\n",
    "print (blank_df.shape)\n",
    "blank_df_sf = blank_df\n",
    "blank_df.head()\n"
   ]
  },
  {
   "cell_type": "code",
   "execution_count": 17,
   "metadata": {},
   "outputs": [
    {
     "name": "stdout",
     "output_type": "stream",
     "text": [
      "(529, 3)\n"
     ]
    },
    {
     "data": {
      "text/html": [
       "<div>\n",
       "<style scoped>\n",
       "    .dataframe tbody tr th:only-of-type {\n",
       "        vertical-align: middle;\n",
       "    }\n",
       "\n",
       "    .dataframe tbody tr th {\n",
       "        vertical-align: top;\n",
       "    }\n",
       "\n",
       "    .dataframe thead th {\n",
       "        text-align: right;\n",
       "    }\n",
       "</style>\n",
       "<table border=\"1\" class=\"dataframe\">\n",
       "  <thead>\n",
       "    <tr style=\"text-align: right;\">\n",
       "      <th></th>\n",
       "      <th>name</th>\n",
       "      <th>details</th>\n",
       "      <th>market</th>\n",
       "    </tr>\n",
       "  </thead>\n",
       "  <tbody>\n",
       "    <tr>\n",
       "      <th>0</th>\n",
       "      <td>00 + Co</td>\n",
       "      <td>Vegan, East Village, From $25.00</td>\n",
       "      <td>New York City</td>\n",
       "    </tr>\n",
       "    <tr>\n",
       "      <th>1</th>\n",
       "      <td>15 East</td>\n",
       "      <td>Japanese, Gramercy, Flatiron &amp; Union Square, F...</td>\n",
       "      <td>New York City</td>\n",
       "    </tr>\n",
       "    <tr>\n",
       "      <th>2</th>\n",
       "      <td>21 Club</td>\n",
       "      <td>American, Midtown West, From $50.00</td>\n",
       "      <td>New York City</td>\n",
       "    </tr>\n",
       "    <tr>\n",
       "      <th>3</th>\n",
       "      <td>21 Greenpoint</td>\n",
       "      <td>American, Williamsburg, From $25.00</td>\n",
       "      <td>New York City</td>\n",
       "    </tr>\n",
       "    <tr>\n",
       "      <th>4</th>\n",
       "      <td>2nd Avenue Deli</td>\n",
       "      <td>Deli, Midtown East, From $13.00</td>\n",
       "      <td>New York City</td>\n",
       "    </tr>\n",
       "  </tbody>\n",
       "</table>\n",
       "</div>"
      ],
      "text/plain": [
       "              name                                            details  \\\n",
       "0          00 + Co                   Vegan, East Village, From $25.00   \n",
       "1          15 East  Japanese, Gramercy, Flatiron & Union Square, F...   \n",
       "2          21 Club                American, Midtown West, From $50.00   \n",
       "3    21 Greenpoint                American, Williamsburg, From $25.00   \n",
       "4  2nd Avenue Deli                    Deli, Midtown East, From $13.00   \n",
       "\n",
       "          market  \n",
       "0  New York City  \n",
       "1  New York City  \n",
       "2  New York City  \n",
       "3  New York City  \n",
       "4  New York City  "
      ]
     },
     "execution_count": 17,
     "metadata": {},
     "output_type": "execute_result"
    }
   ],
   "source": [
    "\n",
    "# Get all the places for NYC\n",
    "blank_df = pd.DataFrame()\n",
    "\n",
    "page_list = [\"https://guide.michelin.com/us/new-york/restaurants/\"\n",
    ",\"https://guide.michelin.com/us/new-york/restaurants/page/2?max=30&sort=relevance&order=desc\"\n",
    ",\"https://guide.michelin.com/us/new-york/restaurants/page/3?max=30&sort=relevance&order=desc\"\n",
    ",\"https://guide.michelin.com/us/new-york/restaurants/page/4?max=30&sort=relevance&order=desc\"\n",
    ",\"https://guide.michelin.com/us/new-york/restaurants/page/5?max=30&sort=relevance&order=desc\"\n",
    ",\"https://guide.michelin.com/us/new-york/restaurants/page/6?max=30&sort=relevance&order=desc\"\n",
    ",\"https://guide.michelin.com/us/new-york/restaurants/page/7?max=30&sort=relevance&order=desc\"\n",
    ",\"https://guide.michelin.com/us/new-york/restaurants/page/8?max=30&sort=relevance&order=desc\"\n",
    ",\"https://guide.michelin.com/us/new-york/restaurants/page/9?max=30&sort=relevance&order=desc\"\n",
    ",\"https://guide.michelin.com/us/new-york/restaurants/page/10?max=30&sort=relevance&order=desc\"\n",
    ",\"https://guide.michelin.com/us/new-york/restaurants/page/11?max=30&sort=relevance&order=desc\"\n",
    ",\"https://guide.michelin.com/us/new-york/restaurants/page/12?max=30&sort=relevance&order=desc\"\n",
    ",\"https://guide.michelin.com/us/new-york/restaurants/page/13?max=30&sort=relevance&order=desc\"\n",
    ",\"https://guide.michelin.com/us/new-york/restaurants/page/14?max=30&sort=relevance&order=desc\"\n",
    ",\"https://guide.michelin.com/us/new-york/restaurants/page/15?max=30&sort=relevance&order=desc\"\n",
    ",\"https://guide.michelin.com/us/new-york/restaurants/page/16?max=30&sort=relevance&order=desc\"\n",
    ",\"https://guide.michelin.com/us/new-york/restaurants/page/17?max=30&sort=relevance&order=desc\"\n",
    ",\"https://guide.michelin.com/us/new-york/restaurants/page/18?max=30&sort=relevance&order=desc\"]\n",
    "\n",
    "for p in page_list:\n",
    "    page = requests.get(p)\n",
    "    soup = BeautifulSoup(page.content, 'html.parser')\n",
    "    names_descs = [sd.get_text() for sd in soup.find_all('div', class_='resto-inner-title')]\n",
    "    details_descs = [sd.get_text() for sd in soup.find_all('div', class_='resto-inner-category')]\n",
    "    df = pd.DataFrame({\n",
    "            \"name\": names_descs, \n",
    "            \"details\": details_descs, \n",
    "        })\n",
    "    df['name'] = df.name.str.strip()\n",
    "    df['name'] = df.name.str.replace('\\n', '')\n",
    "    df['name'] = df.name.str.replace('=', '')\n",
    "    df['name'] = df.name.str.replace('‹', '')\n",
    "    df['name'] = df.name.str.replace('=', '')\n",
    "    df['name'] = df.name.str.replace('   m', '')\n",
    "    df['name'] = df.name.str.replace('   n', '')\n",
    "    df['name'] = df.name.str.replace('   o', '')\n",
    "    df['name'] = df.name.str.strip()\n",
    "    df['details'] = df.details.str.strip()\n",
    "    df['details'] = df.details.str.replace('\\n', '')\n",
    "    df['details'] = df.details.str.replace('=', '')\n",
    "    df['details'] = df.details.str.replace('‹', '')\n",
    "    df['details'] = df.details.str.replace('·', '')\n",
    "    df['details'] = df.details.str.replace('                                                                                                                                                                 ', ', ')\n",
    "    df['details'] = df.details.str.strip()\n",
    "    blank_df = blank_df.append(df)\n",
    "\n",
    "    \n",
    "    \n",
    "blank_df['market'] = \"New York City\"\n",
    "blank_df_nyc = blank_df\n",
    "print (blank_df.shape)\n",
    "blank_df.head()\n"
   ]
  },
  {
   "cell_type": "code",
   "execution_count": 18,
   "metadata": {},
   "outputs": [
    {
     "name": "stdout",
     "output_type": "stream",
     "text": [
      "(180, 3)\n"
     ]
    },
    {
     "data": {
      "text/html": [
       "<div>\n",
       "<style scoped>\n",
       "    .dataframe tbody tr th:only-of-type {\n",
       "        vertical-align: middle;\n",
       "    }\n",
       "\n",
       "    .dataframe tbody tr th {\n",
       "        vertical-align: top;\n",
       "    }\n",
       "\n",
       "    .dataframe thead th {\n",
       "        text-align: right;\n",
       "    }\n",
       "</style>\n",
       "<table border=\"1\" class=\"dataframe\">\n",
       "  <thead>\n",
       "    <tr style=\"text-align: right;\">\n",
       "      <th></th>\n",
       "      <th>name</th>\n",
       "      <th>details</th>\n",
       "      <th>market</th>\n",
       "    </tr>\n",
       "  </thead>\n",
       "  <tbody>\n",
       "    <tr>\n",
       "      <th>0</th>\n",
       "      <td>Acadia</td>\n",
       "      <td>Contemporary, Chinatown &amp; South, From $75.00</td>\n",
       "      <td>Chicago</td>\n",
       "    </tr>\n",
       "    <tr>\n",
       "      <th>1</th>\n",
       "      <td>Acanto</td>\n",
       "      <td>Italian, Loop, From $25.00</td>\n",
       "      <td>Chicago</td>\n",
       "    </tr>\n",
       "    <tr>\n",
       "      <th>2</th>\n",
       "      <td>Ada St.</td>\n",
       "      <td>Contemporary, Bucktown &amp; Wicker Park, From $25.00</td>\n",
       "      <td>Chicago</td>\n",
       "    </tr>\n",
       "    <tr>\n",
       "      <th>3</th>\n",
       "      <td>Adobo Grill</td>\n",
       "      <td>Mexican, Lincoln Park &amp; Old Town, From $25.00</td>\n",
       "      <td>Chicago</td>\n",
       "    </tr>\n",
       "    <tr>\n",
       "      <th>4</th>\n",
       "      <td>Alinea</td>\n",
       "      <td>Contemporary, Lincoln Park &amp; Old Town, From $7...</td>\n",
       "      <td>Chicago</td>\n",
       "    </tr>\n",
       "  </tbody>\n",
       "</table>\n",
       "</div>"
      ],
      "text/plain": [
       "          name                                            details   market\n",
       "0       Acadia       Contemporary, Chinatown & South, From $75.00  Chicago\n",
       "1       Acanto                         Italian, Loop, From $25.00  Chicago\n",
       "2      Ada St.  Contemporary, Bucktown & Wicker Park, From $25.00  Chicago\n",
       "3  Adobo Grill      Mexican, Lincoln Park & Old Town, From $25.00  Chicago\n",
       "4       Alinea  Contemporary, Lincoln Park & Old Town, From $7...  Chicago"
      ]
     },
     "execution_count": 18,
     "metadata": {},
     "output_type": "execute_result"
    }
   ],
   "source": [
    "\n",
    "# Get all the places for Chicago\n",
    "blank_df = pd.DataFrame()\n",
    "\n",
    "page_list = [\"https://guide.michelin.com/us/chicago/restaurants/\"\n",
    ",\"https://guide.michelin.com/us/chicago/restaurants/page/2?max=30&sort=relevance&order=desc\"\n",
    ",\"https://guide.michelin.com/us/chicago/restaurants/page/3?max=30&sort=relevance&order=desc\"\n",
    ",\"https://guide.michelin.com/us/chicago/restaurants/page/4?max=30&sort=relevance&order=desc\"\n",
    ",\"https://guide.michelin.com/us/chicago/restaurants/page/5?max=30&sort=relevance&order=desc\"\n",
    ",\"https://guide.michelin.com/us/chicago/restaurants/page/6?max=30&sort=relevance&order=desc\"]\n",
    "\n",
    "for p in page_list:\n",
    "    page = requests.get(p)\n",
    "    soup = BeautifulSoup(page.content, 'html.parser')\n",
    "    names_descs = [sd.get_text() for sd in soup.find_all('div', class_='resto-inner-title')]\n",
    "    details_descs = [sd.get_text() for sd in soup.find_all('div', class_='resto-inner-category')]\n",
    "    df = pd.DataFrame({\n",
    "            \"name\": names_descs, \n",
    "            \"details\": details_descs, \n",
    "        })\n",
    "    df['name'] = df.name.str.strip()\n",
    "    df['name'] = df.name.str.replace('\\n', '')\n",
    "    df['name'] = df.name.str.replace('=', '')\n",
    "    df['name'] = df.name.str.replace('‹', '')\n",
    "    df['name'] = df.name.str.replace('=', '')\n",
    "    df['name'] = df.name.str.replace('   m', '')\n",
    "    df['name'] = df.name.str.replace('   n', '')\n",
    "    df['name'] = df.name.str.replace('   o', '')\n",
    "    df['name'] = df.name.str.strip()\n",
    "    df['details'] = df.details.str.strip()\n",
    "    df['details'] = df.details.str.replace('\\n', '')\n",
    "    df['details'] = df.details.str.replace('=', '')\n",
    "    df['details'] = df.details.str.replace('‹', '')\n",
    "    df['details'] = df.details.str.replace('·', '')\n",
    "    df['details'] = df.details.str.replace('                                                                                                                                                                 ', ', ')\n",
    "    df['details'] = df.details.str.strip()\n",
    "    blank_df = blank_df.append(df)\n",
    "\n",
    "    \n",
    "    \n",
    "blank_df['market'] = \"Chicago\"\n",
    "blank_df_chi = blank_df\n",
    "print (blank_df.shape)\n",
    "blank_df.head()\n"
   ]
  },
  {
   "cell_type": "code",
   "execution_count": 19,
   "metadata": {},
   "outputs": [
    {
     "name": "stdout",
     "output_type": "stream",
     "text": [
      "(120, 3)\n"
     ]
    },
    {
     "data": {
      "text/html": [
       "<div>\n",
       "<style scoped>\n",
       "    .dataframe tbody tr th:only-of-type {\n",
       "        vertical-align: middle;\n",
       "    }\n",
       "\n",
       "    .dataframe tbody tr th {\n",
       "        vertical-align: top;\n",
       "    }\n",
       "\n",
       "    .dataframe thead th {\n",
       "        text-align: right;\n",
       "    }\n",
       "</style>\n",
       "<table border=\"1\" class=\"dataframe\">\n",
       "  <thead>\n",
       "    <tr style=\"text-align: right;\">\n",
       "      <th></th>\n",
       "      <th>name</th>\n",
       "      <th>details</th>\n",
       "      <th>market</th>\n",
       "    </tr>\n",
       "  </thead>\n",
       "  <tbody>\n",
       "    <tr>\n",
       "      <th>0</th>\n",
       "      <td>1789</td>\n",
       "      <td>American, Georgetown, From $75.00</td>\n",
       "      <td>Washington DC</td>\n",
       "    </tr>\n",
       "    <tr>\n",
       "      <th>1</th>\n",
       "      <td>A Rake's Progress</td>\n",
       "      <td>American, Columbia Heights, U Street &amp; Adams M...</td>\n",
       "      <td>Washington DC</td>\n",
       "    </tr>\n",
       "    <tr>\n",
       "      <th>2</th>\n",
       "      <td>Al Tiramisu</td>\n",
       "      <td>Italian, Dupont Circle, Logan Circle &amp; Foggy B...</td>\n",
       "      <td>Washington DC</td>\n",
       "    </tr>\n",
       "    <tr>\n",
       "      <th>3</th>\n",
       "      <td>All Purpose</td>\n",
       "      <td>Italian, Penn Quarter &amp; Chinatown, From $25.00</td>\n",
       "      <td>Washington DC</td>\n",
       "    </tr>\n",
       "    <tr>\n",
       "      <th>4</th>\n",
       "      <td>Ambar</td>\n",
       "      <td>Balkan, Capitol Hill &amp; Navy Yard, From $25.00</td>\n",
       "      <td>Washington DC</td>\n",
       "    </tr>\n",
       "  </tbody>\n",
       "</table>\n",
       "</div>"
      ],
      "text/plain": [
       "                name                                            details  \\\n",
       "0               1789                  American, Georgetown, From $75.00   \n",
       "1  A Rake's Progress  American, Columbia Heights, U Street & Adams M...   \n",
       "2        Al Tiramisu  Italian, Dupont Circle, Logan Circle & Foggy B...   \n",
       "3        All Purpose     Italian, Penn Quarter & Chinatown, From $25.00   \n",
       "4              Ambar      Balkan, Capitol Hill & Navy Yard, From $25.00   \n",
       "\n",
       "          market  \n",
       "0  Washington DC  \n",
       "1  Washington DC  \n",
       "2  Washington DC  \n",
       "3  Washington DC  \n",
       "4  Washington DC  "
      ]
     },
     "execution_count": 19,
     "metadata": {},
     "output_type": "execute_result"
    }
   ],
   "source": [
    "\n",
    "# Get all the places for Washington DC\n",
    "blank_df = pd.DataFrame()\n",
    "\n",
    "page_list = [\"https://guide.michelin.com/us/washington-dc/restaurants/\"\n",
    ",\"https://guide.michelin.com/us/washington-dc/restaurants/page/2?max=30&sort=relevance&order=desc\"\n",
    ",\"https://guide.michelin.com/us/washington-dc/restaurants/page/3?max=30&sort=relevance&order=desc\"\n",
    ",\"https://guide.michelin.com/us/washington-dc/restaurants/page/4?max=30&sort=relevance&order=desc\"]\n",
    "\n",
    "for p in page_list:\n",
    "    page = requests.get(p)\n",
    "    soup = BeautifulSoup(page.content, 'html.parser')\n",
    "    names_descs = [sd.get_text() for sd in soup.find_all('div', class_='resto-inner-title')]\n",
    "    details_descs = [sd.get_text() for sd in soup.find_all('div', class_='resto-inner-category')]\n",
    "    df = pd.DataFrame({\n",
    "            \"name\": names_descs, \n",
    "            \"details\": details_descs, \n",
    "        })\n",
    "    df['name'] = df.name.str.strip()\n",
    "    df['name'] = df.name.str.replace('\\n', '')\n",
    "    df['name'] = df.name.str.replace('=', '')\n",
    "    df['name'] = df.name.str.replace('‹', '')\n",
    "    df['name'] = df.name.str.replace('=', '')\n",
    "    df['name'] = df.name.str.replace('   m', '')\n",
    "    df['name'] = df.name.str.replace('   n', '')\n",
    "    df['name'] = df.name.str.replace('   o', '')\n",
    "    df['name'] = df.name.str.strip()\n",
    "    df['details'] = df.details.str.strip()\n",
    "    df['details'] = df.details.str.replace('\\n', '')\n",
    "    df['details'] = df.details.str.replace('=', '')\n",
    "    df['details'] = df.details.str.replace('‹', '')\n",
    "    df['details'] = df.details.str.replace('·', '')\n",
    "    df['details'] = df.details.str.replace('                                                                                                                                                                 ', ', ')\n",
    "    df['details'] = df.details.str.strip()\n",
    "    blank_df = blank_df.append(df)\n",
    "\n",
    "    \n",
    "    \n",
    "blank_df['market'] = \"Washington DC\"\n",
    "blank_df_dc = blank_df\n",
    "print (blank_df.shape)\n",
    "blank_df.head()\n"
   ]
  },
  {
   "cell_type": "code",
   "execution_count": 20,
   "metadata": {},
   "outputs": [
    {
     "name": "stdout",
     "output_type": "stream",
     "text": [
      "(1103, 3)\n",
      "                 name                         details         market\n",
      "0               'āina  Hawaiian, Mission, From $25.00  San Francisco\n",
      "1  1601 Bar & Kitchen   Sri Lankan, SoMa, From $25.00  San Francisco\n"
     ]
    },
    {
     "data": {
      "text/html": [
       "<div>\n",
       "<style scoped>\n",
       "    .dataframe tbody tr th:only-of-type {\n",
       "        vertical-align: middle;\n",
       "    }\n",
       "\n",
       "    .dataframe tbody tr th {\n",
       "        vertical-align: top;\n",
       "    }\n",
       "\n",
       "    .dataframe thead th {\n",
       "        text-align: right;\n",
       "    }\n",
       "</style>\n",
       "<table border=\"1\" class=\"dataframe\">\n",
       "  <thead>\n",
       "    <tr style=\"text-align: right;\">\n",
       "      <th></th>\n",
       "      <th>name</th>\n",
       "      <th>details</th>\n",
       "      <th>market</th>\n",
       "      <th>0</th>\n",
       "      <th>1</th>\n",
       "      <th>2</th>\n",
       "      <th>3</th>\n",
       "    </tr>\n",
       "  </thead>\n",
       "  <tbody>\n",
       "    <tr>\n",
       "      <th>0</th>\n",
       "      <td>'āina</td>\n",
       "      <td>Hawaiian, Mission, From $25.00</td>\n",
       "      <td>San Francisco</td>\n",
       "      <td>Hawaiian</td>\n",
       "      <td>Mission</td>\n",
       "      <td>From $25.00</td>\n",
       "      <td>None</td>\n",
       "    </tr>\n",
       "    <tr>\n",
       "      <th>1</th>\n",
       "      <td>1601 Bar &amp; Kitchen</td>\n",
       "      <td>Sri Lankan, SoMa, From $25.00</td>\n",
       "      <td>San Francisco</td>\n",
       "      <td>Sri Lankan</td>\n",
       "      <td>SoMa</td>\n",
       "      <td>From $25.00</td>\n",
       "      <td>None</td>\n",
       "    </tr>\n",
       "    <tr>\n",
       "      <th>2</th>\n",
       "      <td>1760</td>\n",
       "      <td>Contemporary, Nob Hill, From $50.00</td>\n",
       "      <td>San Francisco</td>\n",
       "      <td>Contemporary</td>\n",
       "      <td>Nob Hill</td>\n",
       "      <td>From $50.00</td>\n",
       "      <td>None</td>\n",
       "    </tr>\n",
       "    <tr>\n",
       "      <th>3</th>\n",
       "      <td>A Mano</td>\n",
       "      <td>Italian, Civic Center, From $25.00</td>\n",
       "      <td>San Francisco</td>\n",
       "      <td>Italian</td>\n",
       "      <td>Civic Center</td>\n",
       "      <td>From $25.00</td>\n",
       "      <td>None</td>\n",
       "    </tr>\n",
       "    <tr>\n",
       "      <th>4</th>\n",
       "      <td>A16</td>\n",
       "      <td>Italian, Marina, From $25.00</td>\n",
       "      <td>San Francisco</td>\n",
       "      <td>Italian</td>\n",
       "      <td>Marina</td>\n",
       "      <td>From $25.00</td>\n",
       "      <td>None</td>\n",
       "    </tr>\n",
       "  </tbody>\n",
       "</table>\n",
       "</div>"
      ],
      "text/plain": [
       "                 name                              details         market  \\\n",
       "0               'āina       Hawaiian, Mission, From $25.00  San Francisco   \n",
       "1  1601 Bar & Kitchen        Sri Lankan, SoMa, From $25.00  San Francisco   \n",
       "2                1760  Contemporary, Nob Hill, From $50.00  San Francisco   \n",
       "3              A Mano   Italian, Civic Center, From $25.00  San Francisco   \n",
       "4                 A16         Italian, Marina, From $25.00  San Francisco   \n",
       "\n",
       "              0              1             2     3  \n",
       "0      Hawaiian        Mission   From $25.00  None  \n",
       "1    Sri Lankan           SoMa   From $25.00  None  \n",
       "2  Contemporary       Nob Hill   From $50.00  None  \n",
       "3       Italian   Civic Center   From $25.00  None  \n",
       "4       Italian         Marina   From $25.00  None  "
      ]
     },
     "execution_count": 20,
     "metadata": {},
     "output_type": "execute_result"
    }
   ],
   "source": [
    "#combine all the different dataframes for the different markets\n",
    "df_mich = blank_df_sf\n",
    "df_mich = df_mich.append(blank_df_nyc)\n",
    "df_mich = df_mich.append(blank_df_chi)\n",
    "df_mich = df_mich.append(blank_df_dc)\n",
    "print(df_mich.shape)\n",
    "print(df_mich.head(2))\n",
    "\n",
    "df = pd.DataFrame(df_mich.details.str.split(',', expand=True))\n",
    "merged_new = pd.concat([df_mich, df], axis = 1)\n",
    "merged_new.head()"
   ]
  },
  {
   "cell_type": "markdown",
   "metadata": {},
   "source": [
    "## Clean the Data\n",
    "- Clean up the really messy data"
   ]
  },
  {
   "cell_type": "code",
   "execution_count": 21,
   "metadata": {},
   "outputs": [
    {
     "data": {
      "text/html": [
       "<div>\n",
       "<style scoped>\n",
       "    .dataframe tbody tr th:only-of-type {\n",
       "        vertical-align: middle;\n",
       "    }\n",
       "\n",
       "    .dataframe tbody tr th {\n",
       "        vertical-align: top;\n",
       "    }\n",
       "\n",
       "    .dataframe thead th {\n",
       "        text-align: right;\n",
       "    }\n",
       "</style>\n",
       "<table border=\"1\" class=\"dataframe\">\n",
       "  <thead>\n",
       "    <tr style=\"text-align: right;\">\n",
       "      <th></th>\n",
       "      <th>index</th>\n",
       "      <th>name</th>\n",
       "      <th>details</th>\n",
       "      <th>market</th>\n",
       "      <th>Food type</th>\n",
       "      <th>Neighborhood</th>\n",
       "      <th>Price</th>\n",
       "      <th>Extra</th>\n",
       "      <th>adj_2</th>\n",
       "    </tr>\n",
       "  </thead>\n",
       "  <tbody>\n",
       "    <tr>\n",
       "      <th>0</th>\n",
       "      <td>0</td>\n",
       "      <td>'āina</td>\n",
       "      <td>Hawaiian, Mission, From $25.00</td>\n",
       "      <td>San Francisco</td>\n",
       "      <td>Hawaiian</td>\n",
       "      <td>Mission</td>\n",
       "      <td>From $25.00</td>\n",
       "      <td>None</td>\n",
       "      <td>From $25.00</td>\n",
       "    </tr>\n",
       "    <tr>\n",
       "      <th>1</th>\n",
       "      <td>1</td>\n",
       "      <td>1601 Bar &amp; Kitchen</td>\n",
       "      <td>Sri Lankan, SoMa, From $25.00</td>\n",
       "      <td>San Francisco</td>\n",
       "      <td>Sri Lankan</td>\n",
       "      <td>SoMa</td>\n",
       "      <td>From $25.00</td>\n",
       "      <td>None</td>\n",
       "      <td>From $25.00</td>\n",
       "    </tr>\n",
       "    <tr>\n",
       "      <th>2</th>\n",
       "      <td>2</td>\n",
       "      <td>1760</td>\n",
       "      <td>Contemporary, Nob Hill, From $50.00</td>\n",
       "      <td>San Francisco</td>\n",
       "      <td>Contemporary</td>\n",
       "      <td>Nob Hill</td>\n",
       "      <td>From $50.00</td>\n",
       "      <td>None</td>\n",
       "      <td>From $50.00</td>\n",
       "    </tr>\n",
       "    <tr>\n",
       "      <th>3</th>\n",
       "      <td>3</td>\n",
       "      <td>A Mano</td>\n",
       "      <td>Italian, Civic Center, From $25.00</td>\n",
       "      <td>San Francisco</td>\n",
       "      <td>Italian</td>\n",
       "      <td>Civic Center</td>\n",
       "      <td>From $25.00</td>\n",
       "      <td>None</td>\n",
       "      <td>From $25.00</td>\n",
       "    </tr>\n",
       "    <tr>\n",
       "      <th>4</th>\n",
       "      <td>4</td>\n",
       "      <td>A16</td>\n",
       "      <td>Italian, Marina, From $25.00</td>\n",
       "      <td>San Francisco</td>\n",
       "      <td>Italian</td>\n",
       "      <td>Marina</td>\n",
       "      <td>From $25.00</td>\n",
       "      <td>None</td>\n",
       "      <td>From $25.00</td>\n",
       "    </tr>\n",
       "  </tbody>\n",
       "</table>\n",
       "</div>"
      ],
      "text/plain": [
       "   index                name                              details  \\\n",
       "0      0               'āina       Hawaiian, Mission, From $25.00   \n",
       "1      1  1601 Bar & Kitchen        Sri Lankan, SoMa, From $25.00   \n",
       "2      2                1760  Contemporary, Nob Hill, From $50.00   \n",
       "3      3              A Mano   Italian, Civic Center, From $25.00   \n",
       "4      4                 A16         Italian, Marina, From $25.00   \n",
       "\n",
       "          market     Food type   Neighborhood         Price Extra  \\\n",
       "0  San Francisco      Hawaiian        Mission   From $25.00  None   \n",
       "1  San Francisco    Sri Lankan           SoMa   From $25.00  None   \n",
       "2  San Francisco  Contemporary       Nob Hill   From $50.00  None   \n",
       "3  San Francisco       Italian   Civic Center   From $25.00  None   \n",
       "4  San Francisco       Italian         Marina   From $25.00  None   \n",
       "\n",
       "          adj_2  \n",
       "0   From $25.00  \n",
       "1   From $25.00  \n",
       "2   From $50.00  \n",
       "3   From $25.00  \n",
       "4   From $25.00  "
      ]
     },
     "execution_count": 21,
     "metadata": {},
     "output_type": "execute_result"
    }
   ],
   "source": [
    "df = merged_new\n",
    "df.reset_index(inplace=True)\n",
    "df.rename(columns={0: 'Food type'}, inplace=True)\n",
    "df.rename(columns={1: 'Neighborhood', 2: 'Price', 3: 'Extra'}, inplace=True)\n",
    "\n",
    "df['adj_2'] = ''\n",
    "\n",
    "def clean_extra_columns(row):\n",
    "    if row['Extra'] == None:\n",
    "        return row['Price']\n",
    "    else:\n",
    "        return row['Extra']\n",
    "\n",
    "df['adj_2'] = df.apply(clean_extra_columns, axis=1)\n",
    "df.head()"
   ]
  },
  {
   "cell_type": "code",
   "execution_count": 22,
   "metadata": {},
   "outputs": [
    {
     "data": {
      "text/html": [
       "<div>\n",
       "<style scoped>\n",
       "    .dataframe tbody tr th:only-of-type {\n",
       "        vertical-align: middle;\n",
       "    }\n",
       "\n",
       "    .dataframe tbody tr th {\n",
       "        vertical-align: top;\n",
       "    }\n",
       "\n",
       "    .dataframe thead th {\n",
       "        text-align: right;\n",
       "    }\n",
       "</style>\n",
       "<table border=\"1\" class=\"dataframe\">\n",
       "  <thead>\n",
       "    <tr style=\"text-align: right;\">\n",
       "      <th></th>\n",
       "      <th>name</th>\n",
       "      <th>Neighborhood</th>\n",
       "      <th>market</th>\n",
       "      <th>Food type</th>\n",
       "      <th>Price</th>\n",
       "    </tr>\n",
       "  </thead>\n",
       "  <tbody>\n",
       "    <tr>\n",
       "      <th>0</th>\n",
       "      <td>'āina</td>\n",
       "      <td>Mission</td>\n",
       "      <td>San Francisco</td>\n",
       "      <td>Hawaiian</td>\n",
       "      <td>25.0</td>\n",
       "    </tr>\n",
       "    <tr>\n",
       "      <th>1</th>\n",
       "      <td>1601 Bar &amp; Kitchen</td>\n",
       "      <td>SoMa</td>\n",
       "      <td>San Francisco</td>\n",
       "      <td>Sri Lankan</td>\n",
       "      <td>25.0</td>\n",
       "    </tr>\n",
       "    <tr>\n",
       "      <th>2</th>\n",
       "      <td>1760</td>\n",
       "      <td>Nob Hill</td>\n",
       "      <td>San Francisco</td>\n",
       "      <td>Contemporary</td>\n",
       "      <td>50.0</td>\n",
       "    </tr>\n",
       "    <tr>\n",
       "      <th>3</th>\n",
       "      <td>A Mano</td>\n",
       "      <td>Civic Center</td>\n",
       "      <td>San Francisco</td>\n",
       "      <td>Italian</td>\n",
       "      <td>25.0</td>\n",
       "    </tr>\n",
       "    <tr>\n",
       "      <th>4</th>\n",
       "      <td>A16</td>\n",
       "      <td>Marina</td>\n",
       "      <td>San Francisco</td>\n",
       "      <td>Italian</td>\n",
       "      <td>25.0</td>\n",
       "    </tr>\n",
       "  </tbody>\n",
       "</table>\n",
       "</div>"
      ],
      "text/plain": [
       "                 name   Neighborhood         market     Food type  Price\n",
       "0               'āina        Mission  San Francisco      Hawaiian   25.0\n",
       "1  1601 Bar & Kitchen           SoMa  San Francisco    Sri Lankan   25.0\n",
       "2                1760       Nob Hill  San Francisco  Contemporary   50.0\n",
       "3              A Mano   Civic Center  San Francisco       Italian   25.0\n",
       "4                 A16         Marina  San Francisco       Italian   25.0"
      ]
     },
     "execution_count": 22,
     "metadata": {},
     "output_type": "execute_result"
    }
   ],
   "source": [
    "# clean up the final DF here\n",
    "df['Price'] = df['adj_2'] \n",
    "final_df = df[['name', 'Neighborhood', 'market', 'Food type', 'Price']]\n",
    "\n",
    "# get the price into something numeric\n",
    "final_df['Price'].replace(regex=True,inplace=True,to_replace=r'\\D',value=r'') \n",
    "final_df['Price']  = final_df['Price'].astype(float) / 100.0\n",
    "\n",
    "final_df.head()"
   ]
  },
  {
   "cell_type": "markdown",
   "metadata": {},
   "source": [
    "## Briefly Analyze the Results\n",
    "- It looks like Scandonavian restaurants and Steakhouses tend to be the most expensive\n",
    "- Indonesian, Polish, Sengelese all look to be the lease expensive\n",
    "- Greenwich & West Village is the neighborhood in NYC with the most Michelin starred / reviewed restaurants\n",
    "- For the bay area the best restaurants look to be in Napa, which is funny because it is not in SF... but yes the food is good."
   ]
  },
  {
   "cell_type": "code",
   "execution_count": 23,
   "metadata": {},
   "outputs": [
    {
     "name": "stdout",
     "output_type": "stream",
     "text": [
      "  Food type      Price\n",
      "0    Afghan  25.000000\n",
      "1  American  32.726496\n"
     ]
    },
    {
     "data": {
      "text/plain": [
       "<matplotlib.axes._subplots.AxesSubplot at 0x1a17499d30>"
      ]
     },
     "execution_count": 23,
     "metadata": {},
     "output_type": "execute_result"
    },
    {
     "data": {
      "image/png": "[encoded data removed]",
      "text/plain": [
       "<Figure size 1440x576 with 1 Axes>"
      ]
     },
     "metadata": {},
     "output_type": "display_data"
    }
   ],
   "source": [
    "df_graph = final_df.groupby('Food type').mean()\n",
    "df_graph.reset_index(inplace=True)\n",
    "print(df_graph.head(2))\n",
    "\n",
    "plt.figure(figsize=(20, 8))\n",
    "plt.xticks(rotation=70)\n",
    "sns.barplot(x='Food type', y='Price', data=df_graph)"
   ]
  },
  {
   "cell_type": "code",
   "execution_count": 24,
   "metadata": {},
   "outputs": [
    {
     "name": "stdout",
     "output_type": "stream",
     "text": [
      "                 Neighborhood  name  market  Food type  Price\n",
      "7    Greenwich & West Village  56.0      56         56     56\n",
      "13                     Queens  51.0      51         51     51\n"
     ]
    },
    {
     "data": {
      "text/plain": [
       "<matplotlib.axes._subplots.AxesSubplot at 0x1a17a7dc18>"
      ]
     },
     "execution_count": 24,
     "metadata": {},
     "output_type": "execute_result"
    },
    {
     "data": {
      "image/png": "[encoded data removed]",
      "text/plain": [
       "<Figure size 1440x576 with 1 Axes>"
      ]
     },
     "metadata": {},
     "output_type": "display_data"
    }
   ],
   "source": [
    "df_graph = final_df[(final_df['market'] == 'New York City')].groupby('Neighborhood').count()\n",
    "df_graph.reset_index(inplace=True)\n",
    "df_graph['name'] = df_graph['name'].astype(float)\n",
    "df_graph = df_graph.sort_values(by='name', ascending = False)\n",
    "print(df_graph.head(2))\n",
    "\n",
    "plt.figure(figsize=(20, 8))\n",
    "plt.xticks(rotation=70)\n",
    "sns.barplot(x='Neighborhood', y='name', data=df_graph)"
   ]
  },
  {
   "cell_type": "code",
   "execution_count": 25,
   "metadata": {},
   "outputs": [
    {
     "name": "stdout",
     "output_type": "stream",
     "text": [
      "    Neighborhood  name  market  Food type  Price\n",
      "7    Napa Valley  32.0      32         32     32\n",
      "10     Peninsula  30.0      30         30     30\n"
     ]
    },
    {
     "data": {
      "text/plain": [
       "<matplotlib.axes._subplots.AxesSubplot at 0x1a248b4c18>"
      ]
     },
     "execution_count": 25,
     "metadata": {},
     "output_type": "execute_result"
    },
    {
     "data": {
      "image/png": "[encoded data removed]",
      "text/plain": [
       "<Figure size 1440x576 with 1 Axes>"
      ]
     },
     "metadata": {},
     "output_type": "display_data"
    }
   ],
   "source": [
    "df_graph = final_df[(final_df['market'] == 'San Francisco')].groupby('Neighborhood').count()\n",
    "df_graph.reset_index(inplace=True)\n",
    "df_graph['name'] = df_graph['name'].astype(float)\n",
    "df_graph = df_graph.sort_values(by='name', ascending = False)\n",
    "print(df_graph.head(2))\n",
    "\n",
    "plt.figure(figsize=(20, 8))\n",
    "plt.xticks(rotation=70)\n",
    "sns.barplot(x='Neighborhood', y='name', data=df_graph)"
   ]
  },
  {
   "cell_type": "markdown",
   "metadata": {},
   "source": [
    "## Export Results & Data\n",
    "- Now export all of our data to both a CSV and a google sheet so you can share with others!"
   ]
  },
  {
   "cell_type": "code",
   "execution_count": 26,
   "metadata": {},
   "outputs": [
    {
     "name": "stdout",
     "output_type": "stream",
     "text": [
      "Script Complete!\n"
     ]
    },
    {
     "data": {
      "text/plain": [
       "'This script took 58.11 seconds'"
      ]
     },
     "execution_count": 26,
     "metadata": {},
     "output_type": "execute_result"
    }
   ],
   "source": [
    "# Export Final File, CSV and to Soogle Sheets\n",
    "spreadsheet = '/random_projects'\n",
    "wks_name = 'Michelin Star Restaurants'\n",
    "d2g.upload(final_df, spreadsheet, wks_name)\n",
    "\n",
    "final_df.to_csv('michelin_star_restaurants.csv')\n",
    "\n",
    "print('Script Complete!')\n",
    "output = (time() - t)\n",
    "'This script took ' + str(round(output,2)) + ' seconds'"
   ]
  },
  {
   "cell_type": "code",
   "execution_count": null,
   "metadata": {},
   "outputs": [],
   "source": []
  }
 ],
 "metadata": {
  "kernelspec": {
   "display_name": "Python 3",
   "language": "python",
   "name": "python3"
  },
  "language_info": {
   "codemirror_mode": {
    "name": "ipython",
    "version": 3
   },
   "file_extension": ".py",
   "mimetype": "text/x-python",
   "name": "python",
   "nbconvert_exporter": "python",
   "pygments_lexer": "ipython3",
   "version": "3.6.5"
  }
 },
 "nbformat": 4,
 "nbformat_minor": 2
}
